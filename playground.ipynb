{
 "cells": [
  {
   "cell_type": "code",
   "execution_count": 1,
   "metadata": {},
   "outputs": [],
   "source": [
    "#moringa school playground \n",
    "#where you will be doing all your code practices \n"
   ]
  },
  {
   "cell_type": "code",
   "execution_count": 8,
   "metadata": {},
   "outputs": [],
   "source": [
    "height = [68, 71, 61, 69, 71, 58, 72, 73, 58, 74, \n",
    "          61, 59, 69, 68, 64, 69, 72, 66, 65, 69]\n",
    "weight = [165, 201, 140, 170, 192, 125, 195, 205, \n",
    "          115, 210, 135, 125, 172, 175, 145, 170, \n",
    "          200, 155, 150, 171]"
   ]
  },
  {
   "cell_type": "code",
   "execution_count": null,
   "metadata": {},
   "outputs": [],
   "source": [
    "#calulation covariance"
   ]
  },
  {
   "cell_type": "code",
   "execution_count": 3,
   "metadata": {},
   "outputs": [],
   "source": [
    "#1)Find mean normalized"
   ]
  },
  {
   "cell_type": "code",
   "execution_count": 4,
   "metadata": {},
   "outputs": [],
   "source": [
    "def mean_normalized(var):\n",
    "    \n",
    "    normalized_values = []\n",
    "    \n",
    "    mean = sum(var) / len(var)\n",
    "    \n",
    "    for i in var:\n",
    "        \n",
    "        difference = i - mean\n",
    "        \n",
    "        normalized_values.append(difference)\n",
    "        \n",
    "    return normalized_values\n",
    "    \n",
    "    "
   ]
  },
  {
   "cell_type": "code",
   "execution_count": 10,
   "metadata": {},
   "outputs": [],
   "source": [
    "#2)Find the dot product \n",
    "def dot_product(x, y):\n",
    "    total = 0\n",
    "    n = len(x)\n",
    "    \n",
    "    for i in range(n):\n",
    "        \n",
    "        product = x[i] * y[i]\n",
    "        \n",
    "        total += product\n",
    "        \n",
    "    return total "
   ]
  },
  {
   "cell_type": "code",
   "execution_count": 11,
   "metadata": {},
   "outputs": [],
   "source": [
    "#3)Finally find the covariance\n",
    "def covariance(x, y):\n",
    "    x_norm = mean_normalized(x)\n",
    "    y_norm = mean_normalized(y)\n",
    "    \n",
    "    numerator = dot_product(x_norm, y_norm)\n",
    "    \n",
    "    return numerator / (len(x) - 1)"
   ]
  },
  {
   "cell_type": "code",
   "execution_count": 12,
   "metadata": {},
   "outputs": [
    {
     "data": {
      "text/plain": [
       "144.75789473684208"
      ]
     },
     "execution_count": 12,
     "metadata": {},
     "output_type": "execute_result"
    }
   ],
   "source": [
    "covariance(height, weight)"
   ]
  },
  {
   "cell_type": "code",
   "execution_count": 13,
   "metadata": {},
   "outputs": [],
   "source": [
    "#calculation corellation\n",
    "#from math import sqrt \n"
   ]
  },
  {
   "cell_type": "code",
   "execution_count": 14,
   "metadata": {},
   "outputs": [],
   "source": [
    "from math import sqrt\n",
    "def stddev(var):\n",
    "    \n",
    "    mean = sum(var) / len(var)\n",
    "    \n",
    "    sum_of_squares = 0 \n",
    "    \n",
    "    for i in var:\n",
    "        \n",
    "        sum_of_squares = (i - mean)**2\n",
    "        \n",
    "        n = len(var)\n",
    "        \n",
    "        variance = sum_of_squares / (n - 1)\n",
    "        \n",
    "    return sqrt(variance)"
   ]
  },
  {
   "cell_type": "code",
   "execution_count": 15,
   "metadata": {},
   "outputs": [
    {
     "data": {
      "text/plain": [
       "0.4932438278217091"
      ]
     },
     "execution_count": 15,
     "metadata": {},
     "output_type": "execute_result"
    }
   ],
   "source": [
    "stddev(height)"
   ]
  },
  {
   "cell_type": "code",
   "execution_count": null,
   "metadata": {},
   "outputs": [],
   "source": []
  }
 ],
 "metadata": {
  "kernelspec": {
   "display_name": "Python 3",
   "language": "python",
   "name": "python3"
  },
  "language_info": {
   "codemirror_mode": {
    "name": "ipython",
    "version": 3
   },
   "file_extension": ".py",
   "mimetype": "text/x-python",
   "name": "python",
   "nbconvert_exporter": "python",
   "pygments_lexer": "ipython3",
   "version": "3.8.5"
  }
 },
 "nbformat": 4,
 "nbformat_minor": 4
}
